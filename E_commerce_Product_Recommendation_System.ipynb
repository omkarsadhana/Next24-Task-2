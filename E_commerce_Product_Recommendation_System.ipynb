{
  "nbformat": 4,
  "nbformat_minor": 0,
  "metadata": {
    "colab": {
      "provenance": []
    },
    "kernelspec": {
      "name": "python3",
      "display_name": "Python 3"
    },
    "language_info": {
      "name": "python"
    }
  },
  "cells": [
    {
      "cell_type": "code",
      "execution_count": null,
      "metadata": {
        "id": "3lU8UROjoMiZ"
      },
      "outputs": [],
      "source": [
        "import pandas as pd\n",
        "from sklearn.model_selection import train_test_split\n",
        "from sklearn.metrics.pairwise import cosine_similarity\n",
        "from sklearn.metrics import mean_squared_error\n",
        "import numpy as np"
      ]
    },
    {
      "cell_type": "code",
      "source": [
        "# Sample customer behavior data\n",
        "# Columns: 'customer_name', 'product_id', 'purchase'\n",
        "data = {\n",
        "    'customer_name': ['Alice', 'Bob', 'Charlie', 'David', 'Alice', 'Bob', 'David', 'Charlie'],\n",
        "    'product_id': [101, 102, 103, 104, 102, 101, 103, 101],\n",
        "    'purchase': [1, 1, 1, 1, 1, 0, 1, 0]\n",
        "}\n",
        "\n",
        "# Convert the data into a DataFrame\n",
        "df = pd.DataFrame(data)\n",
        "\n",
        "# Create a pivot table for the recommendation engine\n",
        "pivot_table = df.pivot_table(index='customer_name', columns='product_id', values='purchase', fill_value=0)\n",
        "\n",
        "# Create a similarity matrix using cosine similarity\n",
        "similarity_matrix = cosine_similarity(pivot_table)\n",
        "\n",
        "# Create a DataFrame for the similarity matrix\n",
        "similarity_df = pd.DataFrame(similarity_matrix, index=pivot_table.index, columns=pivot_table.index)\n",
        "\n",
        "def recommend_products(customer_name, pivot_table, similarity_df, n_recommendations=3):\n",
        "    # Find the similar customers\n",
        "    similar_customers = similarity_df[customer_name].sort_values(ascending=False)[1:]\n",
        "\n",
        "    # Weighted recommendations\n",
        "    recommendations = {}\n",
        "\n",
        "    for similar_customer, similarity in similar_customers.items():\n",
        "        similar_customer_purchases = pivot_table.loc[similar_customer]\n",
        "        for product, purchase in similar_customer_purchases.items():\n",
        "            if pivot_table.loc[customer_name, product] == 0:  # Only recommend products the customer hasn't purchased\n",
        "                if product not in recommendations:\n",
        "                    recommendations[product] = similarity * purchase\n",
        "                else:\n",
        "                    recommendations[product] += similarity * purchase\n",
        "\n",
        "    # Sort recommendations by score and return top n recommendations\n",
        "    recommended_products = sorted(recommendations.items(), key=lambda x: x[1], reverse=True)[:n_recommendations]\n",
        "\n",
        "    return [product for product, score in recommended_products]\n",
        "\n",
        "# Example usage\n",
        "customer_name = 'Alice'\n",
        "recommended_products = recommend_products(customer_name, pivot_table, similarity_df)\n",
        "print(f\"Recommended products for {customer_name}: {recommended_products}\")\n",
        "\n",
        "customer_name = 'Bob'\n",
        "recommended_products = recommend_products(customer_name, pivot_table, similarity_df)\n",
        "print(f\"Recommended products for {customer_name}: {recommended_products}\")"
      ],
      "metadata": {
        "colab": {
          "base_uri": "https://localhost:8080/"
        },
        "id": "vtKcxraqoerj",
        "outputId": "44ae896a-9ebe-44f2-f315-ccff40beefbb"
      },
      "execution_count": null,
      "outputs": [
        {
          "output_type": "stream",
          "name": "stdout",
          "text": [
            "Recommended products for Alice: [103, 104]\n",
            "Recommended products for Bob: [101, 103, 104]\n"
          ]
        }
      ]
    }
  ]
}